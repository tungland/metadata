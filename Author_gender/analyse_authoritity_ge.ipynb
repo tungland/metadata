{
 "cells": [
  {
   "cell_type": "code",
   "execution_count": 1,
   "metadata": {},
   "outputs": [],
   "source": [
    "from autoritetsregister_oppslag import author_gender\n",
    "import pandas as pd\n",
    "import sqlite3 as sql\n"
   ]
  },
  {
   "cell_type": "code",
   "execution_count": 2,
   "metadata": {},
   "outputs": [
    {
     "data": {
      "text/plain": [
       "[('Stensli, John Haakon', 'f', '1960-')]"
      ]
     },
     "execution_count": 2,
     "metadata": {},
     "output_type": "execute_result"
    }
   ],
   "source": [
    "author_gender(\"Stensli , John Haakon\")"
   ]
  },
  {
   "cell_type": "markdown",
   "metadata": {},
   "source": [
    "Mye feil i MARC"
   ]
  },
  {
   "cell_type": "code",
   "execution_count": 3,
   "metadata": {},
   "outputs": [],
   "source": [
    "df = pd.read_csv(\"/home/larsm/my_projects/metadata/Author_gender/author_gender_processed.csv\")"
   ]
  },
  {
   "cell_type": "code",
   "execution_count": 4,
   "metadata": {},
   "outputs": [
    {
     "data": {
      "text/html": [
       "<div>\n",
       "<style scoped>\n",
       "    .dataframe tbody tr th:only-of-type {\n",
       "        vertical-align: middle;\n",
       "    }\n",
       "\n",
       "    .dataframe tbody tr th {\n",
       "        vertical-align: top;\n",
       "    }\n",
       "\n",
       "    .dataframe thead th {\n",
       "        text-align: right;\n",
       "    }\n",
       "</style>\n",
       "<table border=\"1\" class=\"dataframe\">\n",
       "  <thead>\n",
       "    <tr style=\"text-align: right;\">\n",
       "      <th></th>\n",
       "      <th>dhlabid</th>\n",
       "      <th>authors</th>\n",
       "      <th>gender_aut_reg</th>\n",
       "      <th>gender_genderguesser</th>\n",
       "    </tr>\n",
       "  </thead>\n",
       "  <tbody>\n",
       "    <tr>\n",
       "      <th>0</th>\n",
       "      <td>100356077</td>\n",
       "      <td>Olafsen , T.K.</td>\n",
       "      <td>Na</td>\n",
       "      <td>Na</td>\n",
       "    </tr>\n",
       "    <tr>\n",
       "      <th>1</th>\n",
       "      <td>100236738</td>\n",
       "      <td>Buan , Edvard</td>\n",
       "      <td>Na</td>\n",
       "      <td>m</td>\n",
       "    </tr>\n",
       "    <tr>\n",
       "      <th>2</th>\n",
       "      <td>100221491</td>\n",
       "      <td>Knausgård , Karl Ove</td>\n",
       "      <td>m</td>\n",
       "      <td>m</td>\n",
       "    </tr>\n",
       "    <tr>\n",
       "      <th>3</th>\n",
       "      <td>100402613</td>\n",
       "      <td>Egner , Thorbjørn</td>\n",
       "      <td>m</td>\n",
       "      <td>m</td>\n",
       "    </tr>\n",
       "    <tr>\n",
       "      <th>4</th>\n",
       "      <td>100217239</td>\n",
       "      <td>Nygårdshaug , Gert</td>\n",
       "      <td>m</td>\n",
       "      <td>m</td>\n",
       "    </tr>\n",
       "    <tr>\n",
       "      <th>...</th>\n",
       "      <td>...</td>\n",
       "      <td>...</td>\n",
       "      <td>...</td>\n",
       "      <td>...</td>\n",
       "    </tr>\n",
       "    <tr>\n",
       "      <th>505055</th>\n",
       "      <td>100354964</td>\n",
       "      <td>Gjessing , Egil T.</td>\n",
       "      <td>Na</td>\n",
       "      <td>m</td>\n",
       "    </tr>\n",
       "    <tr>\n",
       "      <th>505056</th>\n",
       "      <td>100061598</td>\n",
       "      <td>Knutson , Tormod</td>\n",
       "      <td>Na</td>\n",
       "      <td>m</td>\n",
       "    </tr>\n",
       "    <tr>\n",
       "      <th>505057</th>\n",
       "      <td>100480684</td>\n",
       "      <td>Bygd , Sjur</td>\n",
       "      <td>m</td>\n",
       "      <td>m</td>\n",
       "    </tr>\n",
       "    <tr>\n",
       "      <th>505058</th>\n",
       "      <td>100087594</td>\n",
       "      <td>Stensli , John Haakon / Fossum , Knut</td>\n",
       "      <td>f/Na</td>\n",
       "      <td>m/m</td>\n",
       "    </tr>\n",
       "    <tr>\n",
       "      <th>505059</th>\n",
       "      <td>100372566</td>\n",
       "      <td>Persen , Tor / Mikalsen , Anne Dagmar Biti / W...</td>\n",
       "      <td>m/f/f</td>\n",
       "      <td>m/f/f</td>\n",
       "    </tr>\n",
       "  </tbody>\n",
       "</table>\n",
       "<p>505060 rows × 4 columns</p>\n",
       "</div>"
      ],
      "text/plain": [
       "          dhlabid                                            authors  \\\n",
       "0       100356077                                     Olafsen , T.K.   \n",
       "1       100236738                                      Buan , Edvard   \n",
       "2       100221491                               Knausgård , Karl Ove   \n",
       "3       100402613                                  Egner , Thorbjørn   \n",
       "4       100217239                                 Nygårdshaug , Gert   \n",
       "...           ...                                                ...   \n",
       "505055  100354964                                 Gjessing , Egil T.   \n",
       "505056  100061598                                   Knutson , Tormod   \n",
       "505057  100480684                                        Bygd , Sjur   \n",
       "505058  100087594              Stensli , John Haakon / Fossum , Knut   \n",
       "505059  100372566  Persen , Tor / Mikalsen , Anne Dagmar Biti / W...   \n",
       "\n",
       "       gender_aut_reg gender_genderguesser  \n",
       "0                  Na                   Na  \n",
       "1                  Na                    m  \n",
       "2                   m                    m  \n",
       "3                   m                    m  \n",
       "4                   m                    m  \n",
       "...               ...                  ...  \n",
       "505055             Na                    m  \n",
       "505056             Na                    m  \n",
       "505057              m                    m  \n",
       "505058           f/Na                  m/m  \n",
       "505059          m/f/f                m/f/f  \n",
       "\n",
       "[505060 rows x 4 columns]"
      ]
     },
     "execution_count": 4,
     "metadata": {},
     "output_type": "execute_result"
    }
   ],
   "source": [
    "df"
   ]
  },
  {
   "cell_type": "code",
   "execution_count": 5,
   "metadata": {},
   "outputs": [],
   "source": [
    "conn = sql.connect(\"/home/larsm/my_projects/metadata/Author_gender/author_gender.db\")\n",
    "\n"
   ]
  },
  {
   "cell_type": "code",
   "execution_count": 7,
   "metadata": {},
   "outputs": [],
   "source": [
    "df2 = pd.read_sql(\"select * from author_gender\", conn)"
   ]
  },
  {
   "cell_type": "code",
   "execution_count": 11,
   "metadata": {},
   "outputs": [
    {
     "data": {
      "text/html": [
       "<div>\n",
       "<style scoped>\n",
       "    .dataframe tbody tr th:only-of-type {\n",
       "        vertical-align: middle;\n",
       "    }\n",
       "\n",
       "    .dataframe tbody tr th {\n",
       "        vertical-align: top;\n",
       "    }\n",
       "\n",
       "    .dataframe thead th {\n",
       "        text-align: right;\n",
       "    }\n",
       "</style>\n",
       "<table border=\"1\" class=\"dataframe\">\n",
       "  <thead>\n",
       "    <tr style=\"text-align: right;\">\n",
       "      <th></th>\n",
       "      <th>dhlabid</th>\n",
       "      <th>oaiid</th>\n",
       "      <th>authors</th>\n",
       "      <th>gender</th>\n",
       "    </tr>\n",
       "  </thead>\n",
       "  <tbody>\n",
       "    <tr>\n",
       "      <th>0</th>\n",
       "      <td>100356077</td>\n",
       "      <td>oai:nb.bibsys.no:999615795014702202</td>\n",
       "      <td>Olafsen , T.K.</td>\n",
       "      <td>Na</td>\n",
       "    </tr>\n",
       "    <tr>\n",
       "      <th>1</th>\n",
       "      <td>100236738</td>\n",
       "      <td>oai:nb.bibsys.no:999429438054702202</td>\n",
       "      <td>Buan , Edvard</td>\n",
       "      <td>Na</td>\n",
       "    </tr>\n",
       "    <tr>\n",
       "      <th>2</th>\n",
       "      <td>100082931</td>\n",
       "      <td>oai:nb.bibsys.no:999400358044702202</td>\n",
       "      <td></td>\n",
       "      <td>Na</td>\n",
       "    </tr>\n",
       "    <tr>\n",
       "      <th>3</th>\n",
       "      <td>100221491</td>\n",
       "      <td>oai:nb.bibsys.no:990513939484702202</td>\n",
       "      <td>Knausgård , Karl Ove</td>\n",
       "      <td>m</td>\n",
       "    </tr>\n",
       "    <tr>\n",
       "      <th>4</th>\n",
       "      <td>100402613</td>\n",
       "      <td>oai:nb.bibsys.no:999104475864702202</td>\n",
       "      <td>Egner , Thorbjørn</td>\n",
       "      <td>m</td>\n",
       "    </tr>\n",
       "    <tr>\n",
       "      <th>...</th>\n",
       "      <td>...</td>\n",
       "      <td>...</td>\n",
       "      <td>...</td>\n",
       "      <td>...</td>\n",
       "    </tr>\n",
       "    <tr>\n",
       "      <th>570806</th>\n",
       "      <td>100354964</td>\n",
       "      <td>oai:nb.bibsys.no:999702982264702202</td>\n",
       "      <td>Gjessing , Egil T.</td>\n",
       "      <td>Na</td>\n",
       "    </tr>\n",
       "    <tr>\n",
       "      <th>570807</th>\n",
       "      <td>100061598</td>\n",
       "      <td>oai:nb.bibsys.no:999706643204702202</td>\n",
       "      <td>Knutson , Tormod</td>\n",
       "      <td>Na</td>\n",
       "    </tr>\n",
       "    <tr>\n",
       "      <th>570808</th>\n",
       "      <td>100480684</td>\n",
       "      <td>oai:nb.bibsys.no:998121178754702202</td>\n",
       "      <td>Bygd , Sjur</td>\n",
       "      <td>m</td>\n",
       "    </tr>\n",
       "    <tr>\n",
       "      <th>570809</th>\n",
       "      <td>100087594</td>\n",
       "      <td>oai:nb.bibsys.no:999523174274702202</td>\n",
       "      <td>Stensli , John Haakon / Fossum , Knut</td>\n",
       "      <td>f/Na</td>\n",
       "    </tr>\n",
       "    <tr>\n",
       "      <th>570810</th>\n",
       "      <td>100372566</td>\n",
       "      <td>oai:nb.bibsys.no:991020479794702202</td>\n",
       "      <td>Persen , Tor / Mikalsen , Anne Dagmar Biti / W...</td>\n",
       "      <td>m/f/f</td>\n",
       "    </tr>\n",
       "  </tbody>\n",
       "</table>\n",
       "<p>570575 rows × 4 columns</p>\n",
       "</div>"
      ],
      "text/plain": [
       "          dhlabid                                oaiid  \\\n",
       "0       100356077  oai:nb.bibsys.no:999615795014702202   \n",
       "1       100236738  oai:nb.bibsys.no:999429438054702202   \n",
       "2       100082931  oai:nb.bibsys.no:999400358044702202   \n",
       "3       100221491  oai:nb.bibsys.no:990513939484702202   \n",
       "4       100402613  oai:nb.bibsys.no:999104475864702202   \n",
       "...           ...                                  ...   \n",
       "570806  100354964  oai:nb.bibsys.no:999702982264702202   \n",
       "570807  100061598  oai:nb.bibsys.no:999706643204702202   \n",
       "570808  100480684  oai:nb.bibsys.no:998121178754702202   \n",
       "570809  100087594  oai:nb.bibsys.no:999523174274702202   \n",
       "570810  100372566  oai:nb.bibsys.no:991020479794702202   \n",
       "\n",
       "                                                  authors gender  \n",
       "0                                          Olafsen , T.K.     Na  \n",
       "1                                           Buan , Edvard     Na  \n",
       "2                                                             Na  \n",
       "3                                    Knausgård , Karl Ove      m  \n",
       "4                                       Egner , Thorbjørn      m  \n",
       "...                                                   ...    ...  \n",
       "570806                                 Gjessing , Egil T.     Na  \n",
       "570807                                   Knutson , Tormod     Na  \n",
       "570808                                        Bygd , Sjur      m  \n",
       "570809              Stensli , John Haakon / Fossum , Knut   f/Na  \n",
       "570810  Persen , Tor / Mikalsen , Anne Dagmar Biti / W...  m/f/f  \n",
       "\n",
       "[570575 rows x 4 columns]"
      ]
     },
     "execution_count": 11,
     "metadata": {},
     "output_type": "execute_result"
    }
   ],
   "source": [
    "df2.drop_duplicates(subset='dhlabid')"
   ]
  },
  {
   "cell_type": "code",
   "execution_count": 31,
   "metadata": {},
   "outputs": [],
   "source": [
    "def parse_gender(df, idcol = 'dhlabid', author_col = 'authors', gender_col = 'gender'):\n",
    "    \"\"\"_summary_\n",
    "\n",
    "    Args:\n",
    "        df (pandas.DataFrame): _description_\n",
    "        idcol (str, optional): _description_. Defaults to 'dhlabid'.\n",
    "        author_col (str, optional): _description_. Defaults to 'authors'.\n",
    "        gender_col (str, optional): _description_. Defaults to 'gender'.\n",
    "\n",
    "    Returns:\n",
    "        pandas.DataFrame: _description_\n",
    "    \"\"\"\n",
    "    if df.index.name != idcol:\n",
    "        df = df.set_index(idcol)\n",
    "    \n",
    "        df.drop_duplicates(subset='dhlabid')\n",
    "    \n",
    "        if len(df) > len(df.drop_duplicates(subset='dhlabid')):\n",
    "            print(\"Dataframe contains duplicates\")  \n",
    "    \n",
    "    aut = df[author_col].str.split(\"/\", expand=True).stack()\n",
    "    gen = df[gender_col].str.split(\"/\", expand=True).stack()\n",
    "\n",
    "    joined = aut.to_frame(\"authors\").join(gen.to_frame(\"gender\"))\n",
    "    n = joined.authors.str.split(', ', expand=True)\n",
    "    return joined"
   ]
  },
  {
   "cell_type": "code",
   "execution_count": 29,
   "metadata": {},
   "outputs": [
    {
     "data": {
      "text/plain": [
       "'dhlabid'"
      ]
     },
     "execution_count": 29,
     "metadata": {},
     "output_type": "execute_result"
    }
   ],
   "source": [
    "df2.index.name"
   ]
  },
  {
   "cell_type": "code",
   "execution_count": 38,
   "metadata": {},
   "outputs": [],
   "source": [
    "gg = parse_gender(df, gender_col='gender_genderguesser')"
   ]
  },
  {
   "cell_type": "code",
   "execution_count": 33,
   "metadata": {},
   "outputs": [],
   "source": [
    "auth_gend = parse_gender(df2)"
   ]
  },
  {
   "cell_type": "code",
   "execution_count": 36,
   "metadata": {},
   "outputs": [
    {
     "data": {
      "text/html": [
       "<div>\n",
       "<style scoped>\n",
       "    .dataframe tbody tr th:only-of-type {\n",
       "        vertical-align: middle;\n",
       "    }\n",
       "\n",
       "    .dataframe tbody tr th {\n",
       "        vertical-align: top;\n",
       "    }\n",
       "\n",
       "    .dataframe thead th {\n",
       "        text-align: right;\n",
       "    }\n",
       "</style>\n",
       "<table border=\"1\" class=\"dataframe\">\n",
       "  <thead>\n",
       "    <tr style=\"text-align: right;\">\n",
       "      <th></th>\n",
       "      <th></th>\n",
       "      <th>authors</th>\n",
       "      <th>gender</th>\n",
       "    </tr>\n",
       "    <tr>\n",
       "      <th>dhlabid</th>\n",
       "      <th></th>\n",
       "      <th></th>\n",
       "      <th></th>\n",
       "    </tr>\n",
       "  </thead>\n",
       "  <tbody>\n",
       "    <tr>\n",
       "      <th>100000000</th>\n",
       "      <th>0</th>\n",
       "      <td>Kinck , Hans E.</td>\n",
       "      <td>m</td>\n",
       "    </tr>\n",
       "    <tr>\n",
       "      <th rowspan=\"2\" valign=\"top\">100000001</th>\n",
       "      <th>0</th>\n",
       "      <td>Holmsen , A.</td>\n",
       "      <td>f</td>\n",
       "    </tr>\n",
       "    <tr>\n",
       "      <th>1</th>\n",
       "      <td>Strøm , Ole</td>\n",
       "      <td>Na</td>\n",
       "    </tr>\n",
       "    <tr>\n",
       "      <th>100000002</th>\n",
       "      <th>0</th>\n",
       "      <td>Vinsnes , Johan Frederik</td>\n",
       "      <td>m</td>\n",
       "    </tr>\n",
       "    <tr>\n",
       "      <th>100000005</th>\n",
       "      <th>0</th>\n",
       "      <td>Petersen , Fredrik</td>\n",
       "      <td>Na</td>\n",
       "    </tr>\n",
       "    <tr>\n",
       "      <th>...</th>\n",
       "      <th>...</th>\n",
       "      <td>...</td>\n",
       "      <td>...</td>\n",
       "    </tr>\n",
       "    <tr>\n",
       "      <th>100579736</th>\n",
       "      <th>1</th>\n",
       "      <td>Dybwad , Jacob</td>\n",
       "      <td>Na</td>\n",
       "    </tr>\n",
       "    <tr>\n",
       "      <th>100579738</th>\n",
       "      <th>0</th>\n",
       "      <td>Tank , C.</td>\n",
       "      <td>m</td>\n",
       "    </tr>\n",
       "    <tr>\n",
       "      <th>100579739</th>\n",
       "      <th>0</th>\n",
       "      <td>Rieck , Gustav</td>\n",
       "      <td>Na</td>\n",
       "    </tr>\n",
       "    <tr>\n",
       "      <th>100579740</th>\n",
       "      <th>0</th>\n",
       "      <td>Østbye , Tora</td>\n",
       "      <td>Na</td>\n",
       "    </tr>\n",
       "    <tr>\n",
       "      <th>100579741</th>\n",
       "      <th>0</th>\n",
       "      <td>Amundsen , Roald</td>\n",
       "      <td>m</td>\n",
       "    </tr>\n",
       "  </tbody>\n",
       "</table>\n",
       "<p>909172 rows × 2 columns</p>\n",
       "</div>"
      ],
      "text/plain": [
       "                              authors gender\n",
       "dhlabid                                     \n",
       "100000000 0           Kinck , Hans E.      m\n",
       "100000001 0             Holmsen , A.       f\n",
       "          1               Strøm , Ole     Na\n",
       "100000002 0  Vinsnes , Johan Frederik      m\n",
       "100000005 0        Petersen , Fredrik     Na\n",
       "...                               ...    ...\n",
       "100579736 1            Dybwad , Jacob     Na\n",
       "100579738 0                 Tank , C.      m\n",
       "100579739 0            Rieck , Gustav     Na\n",
       "100579740 0             Østbye , Tora     Na\n",
       "100579741 0          Amundsen , Roald      m\n",
       "\n",
       "[909172 rows x 2 columns]"
      ]
     },
     "execution_count": 36,
     "metadata": {},
     "output_type": "execute_result"
    }
   ],
   "source": [
    "auth_gend"
   ]
  },
  {
   "cell_type": "code",
   "execution_count": 37,
   "metadata": {},
   "outputs": [
    {
     "data": {
      "text/plain": [
       "array(['m', 'f', 'Na', 'male'], dtype=object)"
      ]
     },
     "execution_count": 37,
     "metadata": {},
     "output_type": "execute_result"
    }
   ],
   "source": [
    "auth_gend.gender.unique()"
   ]
  },
  {
   "cell_type": "code",
   "execution_count": 40,
   "metadata": {},
   "outputs": [
    {
     "data": {
      "text/html": [
       "<div>\n",
       "<style scoped>\n",
       "    .dataframe tbody tr th:only-of-type {\n",
       "        vertical-align: middle;\n",
       "    }\n",
       "\n",
       "    .dataframe tbody tr th {\n",
       "        vertical-align: top;\n",
       "    }\n",
       "\n",
       "    .dataframe thead th {\n",
       "        text-align: right;\n",
       "    }\n",
       "</style>\n",
       "<table border=\"1\" class=\"dataframe\">\n",
       "  <thead>\n",
       "    <tr style=\"text-align: right;\">\n",
       "      <th></th>\n",
       "      <th></th>\n",
       "      <th>authors</th>\n",
       "      <th>gender</th>\n",
       "    </tr>\n",
       "    <tr>\n",
       "      <th>dhlabid</th>\n",
       "      <th></th>\n",
       "      <th></th>\n",
       "      <th></th>\n",
       "    </tr>\n",
       "  </thead>\n",
       "  <tbody>\n",
       "    <tr>\n",
       "      <th>100000000</th>\n",
       "      <th>0</th>\n",
       "      <td>Kinck , Hans E.</td>\n",
       "      <td>m</td>\n",
       "    </tr>\n",
       "    <tr>\n",
       "      <th rowspan=\"2\" valign=\"top\">100000001</th>\n",
       "      <th>0</th>\n",
       "      <td>Holmsen , A.</td>\n",
       "      <td>Na</td>\n",
       "    </tr>\n",
       "    <tr>\n",
       "      <th>1</th>\n",
       "      <td>Strøm , Ole</td>\n",
       "      <td>m</td>\n",
       "    </tr>\n",
       "    <tr>\n",
       "      <th>100000002</th>\n",
       "      <th>0</th>\n",
       "      <td>Vinsnes , Johan Frederik</td>\n",
       "      <td>m</td>\n",
       "    </tr>\n",
       "    <tr>\n",
       "      <th>100000005</th>\n",
       "      <th>0</th>\n",
       "      <td>Petersen , Fredrik</td>\n",
       "      <td>m</td>\n",
       "    </tr>\n",
       "    <tr>\n",
       "      <th>...</th>\n",
       "      <th>...</th>\n",
       "      <td>...</td>\n",
       "      <td>...</td>\n",
       "    </tr>\n",
       "    <tr>\n",
       "      <th>100579736</th>\n",
       "      <th>1</th>\n",
       "      <td>Dybwad , Jacob</td>\n",
       "      <td>m</td>\n",
       "    </tr>\n",
       "    <tr>\n",
       "      <th>100579738</th>\n",
       "      <th>0</th>\n",
       "      <td>Tank , C.</td>\n",
       "      <td>Na</td>\n",
       "    </tr>\n",
       "    <tr>\n",
       "      <th>100579739</th>\n",
       "      <th>0</th>\n",
       "      <td>Rieck , Gustav</td>\n",
       "      <td>m</td>\n",
       "    </tr>\n",
       "    <tr>\n",
       "      <th>100579740</th>\n",
       "      <th>0</th>\n",
       "      <td>Østbye , Tora</td>\n",
       "      <td>f</td>\n",
       "    </tr>\n",
       "    <tr>\n",
       "      <th>100579741</th>\n",
       "      <th>0</th>\n",
       "      <td>Amundsen , Roald</td>\n",
       "      <td>m</td>\n",
       "    </tr>\n",
       "  </tbody>\n",
       "</table>\n",
       "<p>842644 rows × 2 columns</p>\n",
       "</div>"
      ],
      "text/plain": [
       "                              authors gender\n",
       "dhlabid                                     \n",
       "100000000 0           Kinck , Hans E.      m\n",
       "100000001 0             Holmsen , A.      Na\n",
       "          1               Strøm , Ole      m\n",
       "100000002 0  Vinsnes , Johan Frederik      m\n",
       "100000005 0        Petersen , Fredrik      m\n",
       "...                               ...    ...\n",
       "100579736 1            Dybwad , Jacob      m\n",
       "100579738 0                 Tank , C.     Na\n",
       "100579739 0            Rieck , Gustav      m\n",
       "100579740 0             Østbye , Tora      f\n",
       "100579741 0          Amundsen , Roald      m\n",
       "\n",
       "[842644 rows x 2 columns]"
      ]
     },
     "execution_count": 40,
     "metadata": {},
     "output_type": "execute_result"
    }
   ],
   "source": [
    "gg.sort_index()"
   ]
  },
  {
   "cell_type": "code",
   "execution_count": 42,
   "metadata": {},
   "outputs": [],
   "source": [
    "joined = auth_gend.join(gg, how='outer', lsuffix='_auth', rsuffix='_gg')"
   ]
  },
  {
   "cell_type": "code",
   "execution_count": 43,
   "metadata": {},
   "outputs": [
    {
     "data": {
      "text/html": [
       "<div>\n",
       "<style scoped>\n",
       "    .dataframe tbody tr th:only-of-type {\n",
       "        vertical-align: middle;\n",
       "    }\n",
       "\n",
       "    .dataframe tbody tr th {\n",
       "        vertical-align: top;\n",
       "    }\n",
       "\n",
       "    .dataframe thead th {\n",
       "        text-align: right;\n",
       "    }\n",
       "</style>\n",
       "<table border=\"1\" class=\"dataframe\">\n",
       "  <thead>\n",
       "    <tr style=\"text-align: right;\">\n",
       "      <th></th>\n",
       "      <th></th>\n",
       "      <th>authors_auth</th>\n",
       "      <th>gender_auth</th>\n",
       "      <th>authors_gg</th>\n",
       "      <th>gender_gg</th>\n",
       "    </tr>\n",
       "    <tr>\n",
       "      <th>dhlabid</th>\n",
       "      <th></th>\n",
       "      <th></th>\n",
       "      <th></th>\n",
       "      <th></th>\n",
       "      <th></th>\n",
       "    </tr>\n",
       "  </thead>\n",
       "  <tbody>\n",
       "    <tr>\n",
       "      <th>100000000</th>\n",
       "      <th>0</th>\n",
       "      <td>Kinck , Hans E.</td>\n",
       "      <td>m</td>\n",
       "      <td>Kinck , Hans E.</td>\n",
       "      <td>m</td>\n",
       "    </tr>\n",
       "    <tr>\n",
       "      <th rowspan=\"2\" valign=\"top\">100000001</th>\n",
       "      <th>0</th>\n",
       "      <td>Holmsen , A.</td>\n",
       "      <td>f</td>\n",
       "      <td>Holmsen , A.</td>\n",
       "      <td>Na</td>\n",
       "    </tr>\n",
       "    <tr>\n",
       "      <th>1</th>\n",
       "      <td>Strøm , Ole</td>\n",
       "      <td>Na</td>\n",
       "      <td>Strøm , Ole</td>\n",
       "      <td>m</td>\n",
       "    </tr>\n",
       "    <tr>\n",
       "      <th>100000002</th>\n",
       "      <th>0</th>\n",
       "      <td>Vinsnes , Johan Frederik</td>\n",
       "      <td>m</td>\n",
       "      <td>Vinsnes , Johan Frederik</td>\n",
       "      <td>m</td>\n",
       "    </tr>\n",
       "    <tr>\n",
       "      <th>100000005</th>\n",
       "      <th>0</th>\n",
       "      <td>Petersen , Fredrik</td>\n",
       "      <td>Na</td>\n",
       "      <td>Petersen , Fredrik</td>\n",
       "      <td>m</td>\n",
       "    </tr>\n",
       "    <tr>\n",
       "      <th>...</th>\n",
       "      <th>...</th>\n",
       "      <td>...</td>\n",
       "      <td>...</td>\n",
       "      <td>...</td>\n",
       "      <td>...</td>\n",
       "    </tr>\n",
       "    <tr>\n",
       "      <th>100579736</th>\n",
       "      <th>1</th>\n",
       "      <td>Dybwad , Jacob</td>\n",
       "      <td>Na</td>\n",
       "      <td>Dybwad , Jacob</td>\n",
       "      <td>m</td>\n",
       "    </tr>\n",
       "    <tr>\n",
       "      <th>100579738</th>\n",
       "      <th>0</th>\n",
       "      <td>Tank , C.</td>\n",
       "      <td>m</td>\n",
       "      <td>Tank , C.</td>\n",
       "      <td>Na</td>\n",
       "    </tr>\n",
       "    <tr>\n",
       "      <th>100579739</th>\n",
       "      <th>0</th>\n",
       "      <td>Rieck , Gustav</td>\n",
       "      <td>Na</td>\n",
       "      <td>Rieck , Gustav</td>\n",
       "      <td>m</td>\n",
       "    </tr>\n",
       "    <tr>\n",
       "      <th>100579740</th>\n",
       "      <th>0</th>\n",
       "      <td>Østbye , Tora</td>\n",
       "      <td>Na</td>\n",
       "      <td>Østbye , Tora</td>\n",
       "      <td>f</td>\n",
       "    </tr>\n",
       "    <tr>\n",
       "      <th>100579741</th>\n",
       "      <th>0</th>\n",
       "      <td>Amundsen , Roald</td>\n",
       "      <td>m</td>\n",
       "      <td>Amundsen , Roald</td>\n",
       "      <td>m</td>\n",
       "    </tr>\n",
       "  </tbody>\n",
       "</table>\n",
       "<p>909172 rows × 4 columns</p>\n",
       "</div>"
      ],
      "text/plain": [
       "                         authors_auth gender_auth                authors_gg  \\\n",
       "dhlabid                                                                       \n",
       "100000000 0           Kinck , Hans E.           m           Kinck , Hans E.   \n",
       "100000001 0             Holmsen , A.            f             Holmsen , A.    \n",
       "          1               Strøm , Ole          Na               Strøm , Ole   \n",
       "100000002 0  Vinsnes , Johan Frederik           m  Vinsnes , Johan Frederik   \n",
       "100000005 0        Petersen , Fredrik          Na        Petersen , Fredrik   \n",
       "...                               ...         ...                       ...   \n",
       "100579736 1            Dybwad , Jacob          Na            Dybwad , Jacob   \n",
       "100579738 0                 Tank , C.           m                 Tank , C.   \n",
       "100579739 0            Rieck , Gustav          Na            Rieck , Gustav   \n",
       "100579740 0             Østbye , Tora          Na             Østbye , Tora   \n",
       "100579741 0          Amundsen , Roald           m          Amundsen , Roald   \n",
       "\n",
       "            gender_gg  \n",
       "dhlabid                \n",
       "100000000 0         m  \n",
       "100000001 0        Na  \n",
       "          1         m  \n",
       "100000002 0         m  \n",
       "100000005 0         m  \n",
       "...               ...  \n",
       "100579736 1         m  \n",
       "100579738 0        Na  \n",
       "100579739 0         m  \n",
       "100579740 0         f  \n",
       "100579741 0         m  \n",
       "\n",
       "[909172 rows x 4 columns]"
      ]
     },
     "execution_count": 43,
     "metadata": {},
     "output_type": "execute_result"
    }
   ],
   "source": [
    "joined"
   ]
  },
  {
   "cell_type": "code",
   "execution_count": 55,
   "metadata": {},
   "outputs": [],
   "source": [
    "disagreed = joined.loc[(joined.gender_auth != joined.gender_gg) & (joined.gender_auth == 'f')]"
   ]
  },
  {
   "cell_type": "code",
   "execution_count": 52,
   "metadata": {},
   "outputs": [],
   "source": [
    "nonascii = joined.loc[joined.authors_auth.str.contains('ø|æ|å|Å|Ø|Æ')]"
   ]
  },
  {
   "cell_type": "code",
   "execution_count": 45,
   "metadata": {},
   "outputs": [
    {
     "data": {
      "text/html": [
       "<div>\n",
       "<style scoped>\n",
       "    .dataframe tbody tr th:only-of-type {\n",
       "        vertical-align: middle;\n",
       "    }\n",
       "\n",
       "    .dataframe tbody tr th {\n",
       "        vertical-align: top;\n",
       "    }\n",
       "\n",
       "    .dataframe thead th {\n",
       "        text-align: right;\n",
       "    }\n",
       "</style>\n",
       "<table border=\"1\" class=\"dataframe\">\n",
       "  <thead>\n",
       "    <tr style=\"text-align: right;\">\n",
       "      <th></th>\n",
       "      <th></th>\n",
       "      <th>authors_auth</th>\n",
       "      <th>gender_auth</th>\n",
       "      <th>authors_gg</th>\n",
       "      <th>gender_gg</th>\n",
       "    </tr>\n",
       "    <tr>\n",
       "      <th>dhlabid</th>\n",
       "      <th></th>\n",
       "      <th></th>\n",
       "      <th></th>\n",
       "      <th></th>\n",
       "      <th></th>\n",
       "    </tr>\n",
       "  </thead>\n",
       "  <tbody>\n",
       "    <tr>\n",
       "      <th>100000000</th>\n",
       "      <th>0</th>\n",
       "      <td>Kinck , Hans E.</td>\n",
       "      <td>m</td>\n",
       "      <td>Kinck , Hans E.</td>\n",
       "      <td>m</td>\n",
       "    </tr>\n",
       "    <tr>\n",
       "      <th>100000002</th>\n",
       "      <th>0</th>\n",
       "      <td>Vinsnes , Johan Frederik</td>\n",
       "      <td>m</td>\n",
       "      <td>Vinsnes , Johan Frederik</td>\n",
       "      <td>m</td>\n",
       "    </tr>\n",
       "    <tr>\n",
       "      <th>100000010</th>\n",
       "      <th>0</th>\n",
       "      <td>Gundersen , B. (Bertrand)</td>\n",
       "      <td>Na</td>\n",
       "      <td>Gundersen , B. (Bertrand)</td>\n",
       "      <td>Na</td>\n",
       "    </tr>\n",
       "    <tr>\n",
       "      <th>100000013</th>\n",
       "      <th>0</th>\n",
       "      <td>Krogh , G.</td>\n",
       "      <td>Na</td>\n",
       "      <td>Krogh , G.</td>\n",
       "      <td>Na</td>\n",
       "    </tr>\n",
       "    <tr>\n",
       "      <th>100000015</th>\n",
       "      <th>0</th>\n",
       "      <td>Bang , Anthon</td>\n",
       "      <td>m</td>\n",
       "      <td>Bang , Anthon</td>\n",
       "      <td>m</td>\n",
       "    </tr>\n",
       "    <tr>\n",
       "      <th>...</th>\n",
       "      <th>...</th>\n",
       "      <td>...</td>\n",
       "      <td>...</td>\n",
       "      <td>...</td>\n",
       "      <td>...</td>\n",
       "    </tr>\n",
       "    <tr>\n",
       "      <th>100579722</th>\n",
       "      <th>1</th>\n",
       "      <td>Arbo , Peter Nicolai</td>\n",
       "      <td>m</td>\n",
       "      <td>Arbo , Peter Nicolai</td>\n",
       "      <td>m</td>\n",
       "    </tr>\n",
       "    <tr>\n",
       "      <th>100579724</th>\n",
       "      <th>0</th>\n",
       "      <td>Sørby , T. Ola</td>\n",
       "      <td>Na</td>\n",
       "      <td>Sørby , T. Ola</td>\n",
       "      <td>Na</td>\n",
       "    </tr>\n",
       "    <tr>\n",
       "      <th>100579726</th>\n",
       "      <th>0</th>\n",
       "      <td>Spurgeon , C.H.</td>\n",
       "      <td>Na</td>\n",
       "      <td>Spurgeon , C.H.</td>\n",
       "      <td>Na</td>\n",
       "    </tr>\n",
       "    <tr>\n",
       "      <th>100579732</th>\n",
       "      <th>0</th>\n",
       "      <td>Helland , Amund</td>\n",
       "      <td>m</td>\n",
       "      <td>Helland , Amund</td>\n",
       "      <td>m</td>\n",
       "    </tr>\n",
       "    <tr>\n",
       "      <th>100579741</th>\n",
       "      <th>0</th>\n",
       "      <td>Amundsen , Roald</td>\n",
       "      <td>m</td>\n",
       "      <td>Amundsen , Roald</td>\n",
       "      <td>m</td>\n",
       "    </tr>\n",
       "  </tbody>\n",
       "</table>\n",
       "<p>446341 rows × 4 columns</p>\n",
       "</div>"
      ],
      "text/plain": [
       "                          authors_auth gender_auth                 authors_gg  \\\n",
       "dhlabid                                                                         \n",
       "100000000 0            Kinck , Hans E.           m            Kinck , Hans E.   \n",
       "100000002 0   Vinsnes , Johan Frederik           m   Vinsnes , Johan Frederik   \n",
       "100000010 0  Gundersen , B. (Bertrand)          Na  Gundersen , B. (Bertrand)   \n",
       "100000013 0                 Krogh , G.          Na                 Krogh , G.   \n",
       "100000015 0              Bang , Anthon           m              Bang , Anthon   \n",
       "...                                ...         ...                        ...   \n",
       "100579722 1       Arbo , Peter Nicolai           m       Arbo , Peter Nicolai   \n",
       "100579724 0             Sørby , T. Ola          Na             Sørby , T. Ola   \n",
       "100579726 0            Spurgeon , C.H.          Na            Spurgeon , C.H.   \n",
       "100579732 0            Helland , Amund           m            Helland , Amund   \n",
       "100579741 0           Amundsen , Roald           m           Amundsen , Roald   \n",
       "\n",
       "            gender_gg  \n",
       "dhlabid                \n",
       "100000000 0         m  \n",
       "100000002 0         m  \n",
       "100000010 0        Na  \n",
       "100000013 0        Na  \n",
       "100000015 0         m  \n",
       "...               ...  \n",
       "100579722 1         m  \n",
       "100579724 0        Na  \n",
       "100579726 0        Na  \n",
       "100579732 0         m  \n",
       "100579741 0         m  \n",
       "\n",
       "[446341 rows x 4 columns]"
      ]
     },
     "execution_count": 45,
     "metadata": {},
     "output_type": "execute_result"
    }
   ],
   "source": [
    "joined.loc[joined.gender_auth == joined.gender_gg]"
   ]
  },
  {
   "cell_type": "code",
   "execution_count": 9,
   "metadata": {},
   "outputs": [
    {
     "data": {
      "text/plain": [
       "570811"
      ]
     },
     "execution_count": 9,
     "metadata": {},
     "output_type": "execute_result"
    }
   ],
   "source": [
    "len(df2)"
   ]
  },
  {
   "cell_type": "code",
   "execution_count": 10,
   "metadata": {},
   "outputs": [
    {
     "data": {
      "text/plain": [
       "505060"
      ]
     },
     "execution_count": 10,
     "metadata": {},
     "output_type": "execute_result"
    }
   ],
   "source": [
    "len(df)"
   ]
  },
  {
   "cell_type": "code",
   "execution_count": 53,
   "metadata": {},
   "outputs": [
    {
     "data": {
      "text/plain": [
       "[('Sautreau, Dagny Bjørnson', 'f', '1876-1974')]"
      ]
     },
     "execution_count": 53,
     "metadata": {},
     "output_type": "execute_result"
    }
   ],
   "source": [
    "author_gender(\"Bjørnson , Bjørnstjerne\")"
   ]
  },
  {
   "cell_type": "code",
   "execution_count": 57,
   "metadata": {},
   "outputs": [
    {
     "data": {
      "text/plain": [
       "[('Bjørnson, Bjørnstjerne', 'm', '1832-1910')]"
      ]
     },
     "execution_count": 57,
     "metadata": {},
     "output_type": "execute_result"
    }
   ],
   "source": [
    "author_gender(\"Bjornson , Bjornstjerne\")"
   ]
  },
  {
   "cell_type": "code",
   "execution_count": 54,
   "metadata": {},
   "outputs": [
    {
     "data": {
      "text/plain": [
       "[('Jørgensen, Dolly', 'f', '1972-'), ('Jørgensen, Jesper', '', '')]"
      ]
     },
     "execution_count": 54,
     "metadata": {},
     "output_type": "execute_result"
    }
   ],
   "source": [
    "author_gender(\"Jørgensen , S.E.\")"
   ]
  },
  {
   "cell_type": "code",
   "execution_count": 62,
   "metadata": {},
   "outputs": [
    {
     "data": {
      "text/plain": [
       "[('Jørgensen, Dolly', 'f', '1972-')]"
      ]
     },
     "execution_count": 62,
     "metadata": {},
     "output_type": "execute_result"
    }
   ],
   "source": [
    "author_gender(\"Jorgensen , S.E.\")"
   ]
  },
  {
   "cell_type": "code",
   "execution_count": 61,
   "metadata": {},
   "outputs": [
    {
     "data": {
      "text/plain": [
       "[('Bull-Gundersen, Anne B.', 'f', '1957-')]"
      ]
     },
     "execution_count": 61,
     "metadata": {},
     "output_type": "execute_result"
    }
   ],
   "source": [
    "author_gender(\" Bull , D.\")"
   ]
  },
  {
   "cell_type": "code",
   "execution_count": 59,
   "metadata": {},
   "outputs": [
    {
     "data": {
      "text/plain": [
       "[('Thorkildsen, Odd Inge Hesjedal', '', '')]"
      ]
     },
     "execution_count": 59,
     "metadata": {},
     "output_type": "execute_result"
    }
   ],
   "source": [
    "author_gender(\"A. Thorkildsen\")"
   ]
  },
  {
   "cell_type": "code",
   "execution_count": null,
   "metadata": {},
   "outputs": [],
   "source": []
  }
 ],
 "metadata": {
  "interpreter": {
   "hash": "fc608861a0cd3409e9d23aa9ddfb5bf7eb827f8bbcfcc7f1ecae791c106b2c3c"
  },
  "kernelspec": {
   "display_name": "Python 3.9.7 ('my_conda')",
   "language": "python",
   "name": "python3"
  },
  "language_info": {
   "codemirror_mode": {
    "name": "ipython",
    "version": 3
   },
   "file_extension": ".py",
   "mimetype": "text/x-python",
   "name": "python",
   "nbconvert_exporter": "python",
   "pygments_lexer": "ipython3",
   "version": "3.9.7"
  },
  "orig_nbformat": 4
 },
 "nbformat": 4,
 "nbformat_minor": 2
}
